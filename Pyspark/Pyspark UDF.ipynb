{
 "cells": [
  {
   "cell_type": "code",
   "execution_count": 0,
   "metadata": {
    "application/vnd.databricks.v1+cell": {
     "cellMetadata": {
      "byteLimit": 2048000,
      "rowLimit": 10000
     },
     "inputWidgets": {},
     "nuid": "064b66f9-e12d-4515-80bf-0b2aff261c5b",
     "showTitle": false,
     "tableResultSettingsMap": {},
     "title": ""
    }
   },
   "outputs": [],
   "source": [
    "# UDF's"
   ]
  },
  {
   "cell_type": "code",
   "execution_count": 0,
   "metadata": {
    "application/vnd.databricks.v1+cell": {
     "cellMetadata": {
      "byteLimit": 2048000,
      "rowLimit": 10000
     },
     "inputWidgets": {},
     "nuid": "14539a7a-cec4-4c22-8bc7-28ab0c92c2f2",
     "showTitle": false,
     "tableResultSettingsMap": {},
     "title": ""
    }
   },
   "outputs": [],
   "source": [
    "from pyspark.sql import functions as F, types as T"
   ]
  },
  {
   "cell_type": "code",
   "execution_count": 0,
   "metadata": {
    "application/vnd.databricks.v1+cell": {
     "cellMetadata": {
      "byteLimit": 2048000,
      "rowLimit": 10000
     },
     "inputWidgets": {},
     "nuid": "8d8b7aec-d32d-40a1-bcea-64934972047b",
     "showTitle": false,
     "tableResultSettingsMap": {
      "0": {
       "dataGridStateBlob": "{\"version\":1,\"tableState\":{\"columnPinning\":{\"left\":[\"#row_number#\"],\"right\":[]},\"columnSizing\":{},\"columnVisibility\":{}},\"settings\":{\"columns\":{}},\"syncTimestamp\":1754075329059}",
       "filterBlob": null,
       "queryPlanFiltersBlob": null,
       "tableResultIndex": 0
      }
     },
     "title": ""
    }
   },
   "outputs": [],
   "source": [
    "data1 = [\n",
    "    (100, \"dileep kumar\"),\n",
    "    (101, \"rajeev kanakala\"),\n",
    "    (102, \"ganesh yadav\"),\n",
    "    (103, \"lokesh reddy\")\n",
    "]\n",
    "\n",
    "columns = T.StructType([\n",
    "    T.StructField(\"EmpId\", T.IntegerType(), True),\n",
    "    T.StructField(\"EmpFullName\", T.StringType(), True)\n",
    "])\n",
    "\n",
    "df = spark.createDataFrame(data=data1, schema=columns)\n",
    "df.display()"
   ]
  },
  {
   "cell_type": "code",
   "execution_count": 0,
   "metadata": {
    "application/vnd.databricks.v1+cell": {
     "cellMetadata": {
      "byteLimit": 2048000,
      "rowLimit": 10000
     },
     "inputWidgets": {},
     "nuid": "3a889341-d359-4464-9fc5-1bd2807a9a69",
     "showTitle": false,
     "tableResultSettingsMap": {},
     "title": ""
    }
   },
   "outputs": [],
   "source": [
    "\"dileep\".upper()"
   ]
  },
  {
   "cell_type": "code",
   "execution_count": 0,
   "metadata": {
    "application/vnd.databricks.v1+cell": {
     "cellMetadata": {
      "byteLimit": 2048000,
      "rowLimit": 10000
     },
     "inputWidgets": {},
     "nuid": "c8450c3b-8e0d-410f-bf2d-878ae0309fbd",
     "showTitle": false,
     "tableResultSettingsMap": {},
     "title": ""
    }
   },
   "outputs": [],
   "source": [
    "def rename_and_cast(name):\n",
    "    full_name = name.split(\" \")   # ---> list\n",
    "    first_name = full_name[0]\n",
    "    last_name = full_name[1]\n",
    "    first_name = first_name[0].upper() + first_name[1:]\n",
    "    last_name = last_name[0].upper() + last_name[1:]\n",
    "    return f\"{first_name} {last_name}\""
   ]
  },
  {
   "cell_type": "code",
   "execution_count": 0,
   "metadata": {
    "application/vnd.databricks.v1+cell": {
     "cellMetadata": {
      "byteLimit": 2048000,
      "rowLimit": 10000
     },
     "inputWidgets": {},
     "nuid": "ec7896cb-41af-42c6-90b2-19fa6115660b",
     "showTitle": false,
     "tableResultSettingsMap": {},
     "title": ""
    }
   },
   "outputs": [],
   "source": [
    "rename_and_cast(\"dileep kumar\")"
   ]
  },
  {
   "cell_type": "code",
   "execution_count": 0,
   "metadata": {
    "application/vnd.databricks.v1+cell": {
     "cellMetadata": {
      "byteLimit": 2048000,
      "rowLimit": 10000
     },
     "inputWidgets": {},
     "nuid": "6c057cd5-bf83-4faf-8ed8-83fa11f11103",
     "showTitle": false,
     "tableResultSettingsMap": {},
     "title": ""
    }
   },
   "outputs": [],
   "source": [
    "# we need to register the python function as a udf\n",
    "# Method - 1\n",
    "\n",
    "udf_rename_and_cast = F.udf(f=rename_and_cast, returnType=T.StringType())"
   ]
  },
  {
   "cell_type": "code",
   "execution_count": 0,
   "metadata": {
    "application/vnd.databricks.v1+cell": {
     "cellMetadata": {
      "byteLimit": 2048000,
      "rowLimit": 10000
     },
     "inputWidgets": {},
     "nuid": "cf8efe62-3601-453c-b71f-5bd2ade1b82d",
     "showTitle": false,
     "tableResultSettingsMap": {},
     "title": ""
    }
   },
   "outputs": [],
   "source": [
    "type(udf_rename_and_cast)"
   ]
  },
  {
   "cell_type": "code",
   "execution_count": 0,
   "metadata": {
    "application/vnd.databricks.v1+cell": {
     "cellMetadata": {
      "byteLimit": 2048000,
      "rowLimit": 10000
     },
     "inputWidgets": {},
     "nuid": "1da09b18-7bcb-4186-a863-21667a33cf13",
     "showTitle": false,
     "tableResultSettingsMap": {},
     "title": ""
    }
   },
   "outputs": [],
   "source": [
    "df = (\n",
    "    df\n",
    "    .withColumn(\"EmpFullName\", udf_rename_and_cast(F.col(\"EmpFullName\")))\n",
    ")\n",
    "\n",
    "df.display()"
   ]
  },
  {
   "cell_type": "code",
   "execution_count": 0,
   "metadata": {
    "application/vnd.databricks.v1+cell": {
     "cellMetadata": {
      "byteLimit": 2048000,
      "rowLimit": 10000
     },
     "inputWidgets": {},
     "nuid": "97810274-3911-47c0-bccb-b76d1cecfb58",
     "showTitle": false,
     "tableResultSettingsMap": {},
     "title": ""
    }
   },
   "outputs": [],
   "source": [
    "renamed_df = (\n",
    "    df\n",
    "    .withColumns(\n",
    "        {\n",
    "            \"EmpFullName\": udf_rename_and_cast(F.col(\"EmpFullName\")),\n",
    "            \"EmpFirstName\": F.split(F.col(\"EmpFullName\"), \" \")[0],\n",
    "            \"EmpLastName\": F.split(F.col(\"EmpFullName\"), \" \")[1]\n",
    "        }\n",
    "    )\n",
    "    .drop(\"EmpFullName\")\n",
    ")\n",
    "\n",
    "renamed_df.display()"
   ]
  },
  {
   "cell_type": "code",
   "execution_count": 0,
   "metadata": {
    "application/vnd.databricks.v1+cell": {
     "cellMetadata": {
      "byteLimit": 2048000,
      "rowLimit": 10000
     },
     "inputWidgets": {},
     "nuid": "8b522b32-db62-4176-9bd2-d7abbb95a9d6",
     "showTitle": false,
     "tableResultSettingsMap": {},
     "title": ""
    }
   },
   "outputs": [],
   "source": [
    "renamed_df = (\n",
    "    df\n",
    "    .withColumn(\"EmpFullName\", udf_rename_and_cast(F.col(\"EmpFullName\")))\n",
    "    .withColumn(\"EmpFirstName\", F.split(F.col(\"EmpFullName\"), \" \")[0])\n",
    "    .withColumn(\"EmpLastName\", F.split(F.col(\"EmpFullName\"), \" \")[1])\n",
    "    .drop(\"EmpFullName\")\n",
    ")\n",
    "\n",
    "renamed_df.display()"
   ]
  },
  {
   "cell_type": "code",
   "execution_count": 0,
   "metadata": {
    "application/vnd.databricks.v1+cell": {
     "cellMetadata": {
      "byteLimit": 2048000,
      "rowLimit": 10000
     },
     "inputWidgets": {},
     "nuid": "d4a9ded0-cbeb-4c18-86a7-a60b391ff37c",
     "showTitle": false,
     "tableResultSettingsMap": {},
     "title": ""
    }
   },
   "outputs": [],
   "source": [
    "# Method - 2\n",
    "\n",
    "@udf(returnType=T.StringType())\n",
    "def rename_and_cast2(name):\n",
    "    full_name = name.split(\" \")   # ---> list\n",
    "    first_name = full_name[0]\n",
    "    last_name = full_name[1]\n",
    "    first_name = first_name[0].upper() + first_name[1:]\n",
    "    last_name = last_name[0].upper() + last_name[1:]\n",
    "    return f\"{first_name} {last_name}\""
   ]
  },
  {
   "cell_type": "code",
   "execution_count": 0,
   "metadata": {
    "application/vnd.databricks.v1+cell": {
     "cellMetadata": {
      "byteLimit": 2048000,
      "rowLimit": 10000
     },
     "inputWidgets": {},
     "nuid": "b1308c01-f428-4fe8-ac07-965061bcfeaf",
     "showTitle": false,
     "tableResultSettingsMap": {},
     "title": ""
    }
   },
   "outputs": [],
   "source": [
    "renamed_df = (\n",
    "    df\n",
    "    .withColumn(\"EmpFullName\", rename_and_cast2(F.col(\"EmpFullName\")))\n",
    "    .withColumn(\"EmpFirstName\", F.split(F.col(\"EmpFullName\"), \" \")[0])\n",
    "    .withColumn(\"EmpLastName\", F.split(F.col(\"EmpFullName\"), \" \")[1])\n",
    "    .drop(\"EmpFullName\")\n",
    ")\n",
    "\n",
    "renamed_df.display()"
   ]
  }
 ],
 "metadata": {
  "application/vnd.databricks.v1+notebook": {
   "computePreferences": null,
   "dashboards": [],
   "environmentMetadata": {
    "base_environment": "",
    "environment_version": "2"
   },
   "inputWidgetPreferences": null,
   "language": "python",
   "notebookMetadata": {
    "pythonIndentUnit": 4
   },
   "notebookName": "Pyspark UDF",
   "widgets": {}
  },
  "language_info": {
   "name": "python"
  }
 },
 "nbformat": 4,
 "nbformat_minor": 0
}
