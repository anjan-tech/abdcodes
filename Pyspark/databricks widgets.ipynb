{
 "cells": [
  {
   "cell_type": "code",
   "execution_count": 0,
   "metadata": {
    "application/vnd.databricks.v1+cell": {
     "cellMetadata": {
      "byteLimit": 2048000,
      "rowLimit": 10000
     },
     "inputWidgets": {},
     "nuid": "e2fd8ccb-187f-48a8-af02-ea659f6ef1a1",
     "showTitle": false,
     "tableResultSettingsMap": {},
     "title": ""
    }
   },
   "outputs": [],
   "source": [
    "dbutils.widgets.text(name=\"PersonName\", defaultValue=\"John\", label=None)\n",
    "dbutils.widgets.combobox(name=\"MyComboBox\", choices=[\"1\", \"2\", \"3\", \"4\"], defaultValue=\"1\", label=None)\n",
    "dbutils.widgets.dropdown(name=\"MyDropdown\", choices=[\"a\", \"b\", \"c\", \"d\"], defaultValue=\"a\", label=None)\n",
    "dbutils.widgets.multiselect(name=\"MyMultiselect\", choices=[\"a\", \"b\", \"c\", \"d\"], defaultValue=\"a\", label=None)"
   ]
  },
  {
   "cell_type": "code",
   "execution_count": 0,
   "metadata": {
    "application/vnd.databricks.v1+cell": {
     "cellMetadata": {
      "byteLimit": 2048000,
      "rowLimit": 10000
     },
     "inputWidgets": {},
     "nuid": "2b4cc492-db52-4004-b9ff-99f1b4ca4f90",
     "showTitle": false,
     "tableResultSettingsMap": {},
     "title": ""
    }
   },
   "outputs": [],
   "source": [
    "person_name = dbutils.widgets.get(\"PersonName\")\n",
    "combo_val = int(dbutils.widgets.get(\"MyComboBox\"))\n",
    "dropdown_val = dbutils.widgets.get(\"MyDropdown\")\n",
    "multi_select = dbutils.widgets.get(\"MyMultiselect\").split(\",\")\n",
    "print(multi_select)"
   ]
  },
  {
   "cell_type": "code",
   "execution_count": 0,
   "metadata": {
    "application/vnd.databricks.v1+cell": {
     "cellMetadata": {
      "byteLimit": 2048000,
      "rowLimit": 10000
     },
     "inputWidgets": {},
     "nuid": "4e6ec340-f68e-4b03-94f7-382749501bce",
     "showTitle": false,
     "tableResultSettingsMap": {},
     "title": ""
    }
   },
   "outputs": [],
   "source": [
    "isinstance(combo_val, int)"
   ]
  }
 ],
 "metadata": {
  "application/vnd.databricks.v1+notebook": {
   "computePreferences": null,
   "dashboards": [],
   "environmentMetadata": {
    "base_environment": "",
    "environment_version": "2"
   },
   "inputWidgetPreferences": null,
   "language": "python",
   "notebookMetadata": {
    "pythonIndentUnit": 4
   },
   "notebookName": "databricks widgets",
   "widgets": {
    "MyComboBox": {
     "currentValue": "2",
     "nuid": "0a2c81dd-acf7-43a6-91eb-b5f4361dd611",
     "typedWidgetInfo": {
      "autoCreated": false,
      "defaultValue": "1",
      "label": null,
      "name": "MyComboBox",
      "options": {
       "widgetDisplayType": "Dropdown",
       "choices": [
        "1",
        "2",
        "3",
        "4"
       ],
       "fixedDomain": false,
       "multiselect": false
      },
      "parameterDataType": "String"
     },
     "widgetInfo": {
      "widgetType": "combobox",
      "defaultValue": "1",
      "label": null,
      "name": "MyComboBox",
      "options": {
       "widgetType": "dropdown",
       "autoCreated": null,
       "choices": [
        "1",
        "2",
        "3",
        "4"
       ]
      }
     }
    },
    "MyDropdown": {
     "currentValue": "b",
     "nuid": "ec488d7e-ea59-4cc2-a3f2-0052d97c77ee",
     "typedWidgetInfo": {
      "autoCreated": false,
      "defaultValue": "a",
      "label": null,
      "name": "MyDropdown",
      "options": {
       "widgetDisplayType": "Dropdown",
       "choices": [
        "a",
        "b",
        "c",
        "d"
       ],
       "fixedDomain": true,
       "multiselect": false
      },
      "parameterDataType": "String"
     },
     "widgetInfo": {
      "widgetType": "dropdown",
      "defaultValue": "a",
      "label": null,
      "name": "MyDropdown",
      "options": {
       "widgetType": "dropdown",
       "autoCreated": null,
       "choices": [
        "a",
        "b",
        "c",
        "d"
       ]
      }
     }
    },
    "MyMultiselect": {
     "currentValue": "a,b",
     "nuid": "58c886fa-b728-46df-bbd6-85c4fc833108",
     "typedWidgetInfo": {
      "autoCreated": false,
      "defaultValue": "a",
      "label": null,
      "name": "MyMultiselect",
      "options": {
       "widgetDisplayType": "Dropdown",
       "choices": [
        "a",
        "b",
        "c",
        "d"
       ],
       "fixedDomain": true,
       "multiselect": true
      },
      "parameterDataType": "String"
     },
     "widgetInfo": {
      "widgetType": "multiselect",
      "defaultValue": "a",
      "label": null,
      "name": "MyMultiselect",
      "options": {
       "widgetType": "dropdown",
       "autoCreated": null,
       "choices": [
        "a",
        "b",
        "c",
        "d"
       ]
      }
     }
    },
    "PersonName": {
     "currentValue": "Ganesh",
     "nuid": "4a55f540-facf-40b5-ab72-fcba4593f4c0",
     "typedWidgetInfo": {
      "autoCreated": false,
      "defaultValue": "John",
      "label": null,
      "name": "PersonName",
      "options": {
       "widgetDisplayType": "Text",
       "validationRegex": null
      },
      "parameterDataType": "String"
     },
     "widgetInfo": {
      "widgetType": "text",
      "defaultValue": "John",
      "label": null,
      "name": "PersonName",
      "options": {
       "widgetType": "text",
       "autoCreated": null,
       "validationRegex": null
      }
     }
    }
   }
  },
  "language_info": {
   "name": "python"
  }
 },
 "nbformat": 4,
 "nbformat_minor": 0
}
