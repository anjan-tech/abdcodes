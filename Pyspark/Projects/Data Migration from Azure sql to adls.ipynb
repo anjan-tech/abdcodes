{
 "cells": [
  {
   "cell_type": "code",
   "execution_count": 0,
   "metadata": {
    "application/vnd.databricks.v1+cell": {
     "cellMetadata": {
      "byteLimit": 2048000,
      "rowLimit": 10000
     },
     "inputWidgets": {},
     "nuid": "e3c72008-a2a9-4413-9c79-5027563ad8e0",
     "showTitle": false,
     "tableResultSettingsMap": {},
     "title": ""
    }
   },
   "outputs": [],
   "source": [
    "import datetime"
   ]
  },
  {
   "cell_type": "code",
   "execution_count": 0,
   "metadata": {
    "application/vnd.databricks.v1+cell": {
     "cellMetadata": {
      "byteLimit": 2048000,
      "rowLimit": 10000
     },
     "inputWidgets": {},
     "nuid": "e3959767-77a1-488b-88a1-5404948e58cd",
     "showTitle": false,
     "tableResultSettingsMap": {},
     "title": ""
    }
   },
   "outputs": [],
   "source": [
    "current_date = datetime.datetime.now().strftime(\"%d%m%Y\")\n",
    "print(current_date)"
   ]
  },
  {
   "cell_type": "code",
   "execution_count": 0,
   "metadata": {
    "application/vnd.databricks.v1+cell": {
     "cellMetadata": {
      "byteLimit": 2048000,
      "rowLimit": 10000
     },
     "inputWidgets": {},
     "nuid": "be1d8931-4832-4ea0-a3d2-34adb1bd4117",
     "showTitle": false,
     "tableResultSettingsMap": {},
     "title": ""
    }
   },
   "outputs": [],
   "source": [
    "jdbc_hostname = \"j2dtechnologies1.database.windows.net\"\n",
    "jdbc_port = 1433\n",
    "jdbc_database = \"j2ddatabase\"\n",
    "base_path = \"dbfs:/FileStore/tables\""
   ]
  },
  {
   "cell_type": "code",
   "execution_count": 0,
   "metadata": {
    "application/vnd.databricks.v1+cell": {
     "cellMetadata": {
      "byteLimit": 2048000,
      "rowLimit": 10000
     },
     "inputWidgets": {},
     "nuid": "d2fd0be8-f555-408d-834b-0465d95bfbe4",
     "showTitle": false,
     "tableResultSettingsMap": {},
     "title": ""
    }
   },
   "outputs": [],
   "source": [
    "# check the secret scopes\n",
    "\n",
    "dbutils.secrets.listScopes()"
   ]
  },
  {
   "cell_type": "code",
   "execution_count": 0,
   "metadata": {
    "application/vnd.databricks.v1+cell": {
     "cellMetadata": {
      "byteLimit": 2048000,
      "rowLimit": 10000
     },
     "inputWidgets": {},
     "nuid": "7b4ef4e2-fae0-469c-9430-738c5f6991bb",
     "showTitle": false,
     "tableResultSettingsMap": {},
     "title": ""
    }
   },
   "outputs": [],
   "source": [
    "try:\n",
    "    user_name = dbutils.secrets.get(scope='j2dtech-secrets3', key='azure-sql-user-name')\n",
    "    password = dbutils.secrets.get(scope='j2dtech-secrets3', key='azure-sql-password')\n",
    "except Exception as e:\n",
    "    raise e"
   ]
  },
  {
   "cell_type": "code",
   "execution_count": 0,
   "metadata": {
    "application/vnd.databricks.v1+cell": {
     "cellMetadata": {
      "byteLimit": 2048000,
      "rowLimit": 10000
     },
     "inputWidgets": {},
     "nuid": "ef916569-1105-487e-a76d-5b3848c3569f",
     "showTitle": false,
     "tableResultSettingsMap": {},
     "title": ""
    }
   },
   "outputs": [],
   "source": [
    "# build jdbc url\n",
    "\n",
    "jdbc_url = f\"jdbc:sqlserver://{jdbc_hostname}:{jdbc_port};database={jdbc_database}\"\n",
    "\n",
    "connection_properties = {\n",
    "    \"user\": user_name,\n",
    "    \"password\": password,\n",
    "    \"driver\": \"com.microsoft.sqlserver.jdbc.SQLServerDriver\"\n",
    "}"
   ]
  },
  {
   "cell_type": "code",
   "execution_count": 0,
   "metadata": {
    "application/vnd.databricks.v1+cell": {
     "cellMetadata": {
      "byteLimit": 2048000,
      "rowLimit": 10000
     },
     "inputWidgets": {},
     "nuid": "43e97b3d-c71d-45f7-933b-e64649519cc0",
     "showTitle": false,
     "tableResultSettingsMap": {},
     "title": ""
    }
   },
   "outputs": [],
   "source": [
    "query = \"(SELECT * FROM INFORMATION_SCHEMA.TABLES WHERE TABLE_TYPE = 'BASE TABLE') as temp\"\n",
    "\n",
    "# tables_info_df = (\n",
    "#     spark.read.format(\"jdbc\")\n",
    "#     .option(\"url\", jdbc_url)\n",
    "#     .option(\"query\", query)\n",
    "#     .option(\"properties\", **connection_properties)\n",
    "#     .load()\n",
    "# )\n",
    "\n",
    "tables_info_df = (\n",
    "    spark.read.jdbc(\n",
    "        url=jdbc_url,\n",
    "        table=query,\n",
    "        properties=connection_properties\n",
    "    )\n",
    ")\n",
    "\n",
    "display(tables_info_df)"
   ]
  },
  {
   "cell_type": "code",
   "execution_count": 0,
   "metadata": {
    "application/vnd.databricks.v1+cell": {
     "cellMetadata": {},
     "inputWidgets": {},
     "nuid": "9a8ffb1f-7c9f-44b0-9b83-65079ba2e9bc",
     "showTitle": false,
     "tableResultSettingsMap": {},
     "title": ""
    }
   },
   "outputs": [],
   "source": [
    "def sql_to_adls(tables_info):\n",
    "    for row in tables_info.collect():\n",
    "        schema = row['TABLE_SCHEMA']\n",
    "        table_name = row['TABLE_NAME']\n",
    "        full_table_name = f\"{schema}.{table_name}\"\n",
    "        print(f\"processing table: {full_table_name}\")\n",
    "\n",
    "        try:\n",
    "            df = (\n",
    "                spark.read.jdbc(\n",
    "                    url=jdbc_url,\n",
    "                    table=f\"{schema}.{table_name}\",\n",
    "                    properties=connection_properties\n",
    "                )\n",
    "            )\n",
    "\n",
    "            # write into adls\n",
    "            (\n",
    "                df.write.format(\"parquet\")\n",
    "                .mode(\"overwrite\")\n",
    "                .save(f\"{base_path}/{(full_table_name.replace('.', '_')).lower()}_{current_date}\")\n",
    "            )\n",
    "\n",
    "        except Exception as e:\n",
    "            raise e"
   ]
  },
  {
   "cell_type": "code",
   "execution_count": 0,
   "metadata": {
    "application/vnd.databricks.v1+cell": {
     "cellMetadata": {},
     "inputWidgets": {},
     "nuid": "4fc4ad59-350e-436f-bb01-34a3f073663b",
     "showTitle": false,
     "tableResultSettingsMap": {},
     "title": ""
    }
   },
   "outputs": [],
   "source": [
    "# function call\n",
    "\n",
    "sql_to_adls(tables_info_df)"
   ]
  }
 ],
 "metadata": {
  "application/vnd.databricks.v1+notebook": {
   "computePreferences": {
    "hardware": {
     "accelerator": null,
     "gpuPoolId": null,
     "memory": null
    }
   },
   "dashboards": [],
   "environmentMetadata": {
    "base_environment": "",
    "environment_version": "2"
   },
   "inputWidgetPreferences": null,
   "language": "python",
   "notebookMetadata": {
    "pythonIndentUnit": 4
   },
   "notebookName": "Data Migration from Azure sql to adls",
   "widgets": {}
  },
  "language_info": {
   "name": "python"
  }
 },
 "nbformat": 4,
 "nbformat_minor": 0
}
